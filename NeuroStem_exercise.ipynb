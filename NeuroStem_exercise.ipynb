{
 "cells": [
  {
   "cell_type": "markdown",
   "metadata": {},
   "source": [
    "# WELCOME TO NEUROSTEM WORKSHOP 2024\n",
    "[insert NEUROSTEM logo here, if there is one???????]\n",
    "\n",
    "\n",
    "This document will give you hands-on experience in what **neuroscientists and engineers** do when analysing Electroencephalography(EEG) data!\n"
   ]
  },
  {
   "cell_type": "markdown",
   "metadata": {},
   "source": [
    "\n",
    "## Introduction\n",
    "\n",
    "What you will learn in this workshop: \n",
    "\n",
    "1. How to configure Python so that it can analyse EEG data\n",
    "2. How to load the data\n",
    "3. How to manipulate the data\n",
    "4. How to visualise the data\n",
    "\n",
    "Note: This document you are reading is called a [Jupyter notebook](https://jupyter.org/). It is not a static document like a Microsoft Word document, but rather an interactive document that allows us to write and execute code within it!\n",
    "\n",
    "\n",
    "### Coding Warm UP! \n",
    "\n",
    "Let's warm up! In the below empty cell called \"TESTING CELL\" (where code can be executed)\n",
    "- Make a program that says \"Hello World\" (For example, type `print(\"Hello World\")`)\n",
    "\n",
    "- Do some simple but difficult maths (For example, type `512 * 15678 * 1.75`)\n",
    "\n",
    "To execute the code, select the cell of interest then click on the \"play\" symbol (inside red circle) at the top of your document as seen in the below screenshot.\n",
    "\n",
    "![Congratz!](pics/jpy_notebook_help.png)"
   ]
  },
  {
   "cell_type": "code",
   "execution_count": 1,
   "metadata": {},
   "outputs": [
    {
     "name": "stdout",
     "output_type": "stream",
     "text": [
      "Mostafa\n"
     ]
    }
   ],
   "source": [
    "################################# TESTING CELL ################################\n",
    "# Note: Line starting with the \"#\" character are comments and will be ignored by Python Interpreter\n",
    "\n",
    "# Remove the \"#\" from the beginning of the next line, or type it yourself to run it\n",
    "# print(\"Hello World\")\n"
   ]
  },
  {
   "cell_type": "markdown",
   "metadata": {},
   "source": [
    "![Congratz!](notebook_gif/Tay_tay_congrats.gif)\n",
    "\n",
    "Congratulations, you just wrote a simple program in Python language! Now let's move on to the fun stuff! 😊"
   ]
  },
  {
   "cell_type": "markdown",
   "metadata": {},
   "source": [
    "## Learning Objective 1: Configuring Python (Loading the packages/dependecies)\n",
    "\n",
    "Python is a very versatile and powerful programming language and tool. It can be used to program robots, create games, music and even art! However, it is essential to correctly configure Python for the right job.\n",
    "\n",
    "For us, as engineers, Python needs to be configured with specific neuroscience tools so that it can process EEG data.\n",
    "\n",
    "To do so we can run below code in the following cell (\"CELL 1\"):\n",
    " - `import mne` : this line of code configures Python with a specialised toolset named [MNE](https://github.com/mne-tools/mne-python), which is developed for EEG. \n",
    " - `import numpy as np` : this allows Python to do complex Mathematical operations useful when manipulating EEG data\n",
    " - `import matplotlib.pyplot as plt` : this allows Python to plot the data\n",
    " - `import os` : this allows Python to access where the EEG data will be stored and loaded from\n",
    "\n"
   ]
  },
  {
   "cell_type": "code",
   "execution_count": 9,
   "metadata": {},
   "outputs": [],
   "source": [
    "################################# CELL 1 ################################\n",
    "# import different required packages as explained above, i.e. replace the ..... line\n",
    "# import .....\n",
    "#!pip install mne\n",
    "import os\n",
    "import mne \n",
    "import numpy as np \n",
    "import matplotlib.pyplot as plt"
   ]
  },
  {
   "cell_type": "markdown",
   "metadata": {},
   "source": [
    "## Learning Objective 2 : Load Up the EEG Data\n",
    "\n",
    "Well done, now Python is tooled up to do engineering analysis of EEG! We now need to load the data we would like to analyse. \n",
    "MNE provides a large sample EEG dataset. We have already downloaded part of this large dataset and made it available to you within this notebook environment. \n",
    "\n",
    "To access/load this data, your task is to modify the code in \"CELL 2\".\n",
    "\n",
    "Hint:\n",
    "- `raw = mne.io.read_raw_fif(file_location)`: this code will find the sample data defined in the file location variable we call here `file_location`, read the data and then store it into a variable called `raw`.\n",
    "- In our case, the file location's variable has been defined as `sample_data_location`\n",
    "- Modify the line `raw = mne.io.read_raw_fif(............)` so that it can access and load our sample data.\n"
   ]
  },
  {
   "cell_type": "code",
   "execution_count": 10,
   "metadata": {},
   "outputs": [
    {
     "name": "stdout",
     "output_type": "stream",
     "text": [
      "Opening raw data file sample_data\\sample_audvis_raw.fif...\n",
      "    Read a total of 3 projection items:\n",
      "        PCA-v1 (1 x 102)  idle\n",
      "        PCA-v2 (1 x 102)  idle\n",
      "        PCA-v3 (1 x 102)  idle\n",
      "    Range : 25800 ... 61837 =     42.956 ...   102.956 secs\n",
      "Ready.\n"
     ]
    }
   ],
   "source": [
    "################################# CELL 2 ################################\n",
    "\n",
    "sample_data_location = os.path.join(\n",
    "    \"sample_data\", \"sample_audvis_raw.fif\"\n",
    ") \n",
    "\n",
    "# Modify the ..... part to the file location name, which is \"sample_data_location\"!\n",
    "# raw = mne.io.read_raw_fif(................)\n"
   ]
  },
  {
   "cell_type": "markdown",
   "metadata": {},
   "source": [
    "Great job! Now that we've loaded the data, it's time to dive into the exciting part: understanding what we're dealing with. Why is this so crucial, you might wonder? Imagine this scenario: What if we accidentally loaded the wrong data, or worse, what if the data is corrupted or incomplete?\n",
    "We definitely don't want to spend hours analysing data only to realise later that it was incorrect or flawed! Let's make sure we're on the right track from the get-go.\n",
    "\n",
    "\n",
    "To check the data, we can print its quick summary to see its details stored in the `raw` variable. Just type in `raw` in \"CELL 3\", and execute the cell."
   ]
  },
  {
   "cell_type": "code",
   "execution_count": 11,
   "metadata": {},
   "outputs": [
    {
     "data": {
      "text/html": [
       "<details open>\n",
       "    <summary><strong>General</strong></summary>\n",
       "    <table class=\"table table-hover table-striped table-sm table-responsive small\">\n",
       "        <tr>\n",
       "            <th>Measurement date</th>\n",
       "            \n",
       "            <td>December 03, 2002  19:01:10 GMT</td>\n",
       "            \n",
       "        </tr>\n",
       "        <tr>\n",
       "            <th>Experimenter</th>\n",
       "            \n",
       "            <td>MEG</td>\n",
       "            \n",
       "        </tr>\n",
       "        <tr>\n",
       "            <th>Participant</th>\n",
       "            \n",
       "            <td>Unknown</td>\n",
       "            \n",
       "        </tr>\n",
       "    </table>\n",
       "    </details>\n",
       "    <details open>\n",
       "        <summary><strong>Channels</strong></summary>\n",
       "        <table class=\"table table-hover table-striped table-sm table-responsive small\">\n",
       "            <tr>\n",
       "                <th>Digitized points</th>\n",
       "                \n",
       "                <td>146 points</td>\n",
       "                \n",
       "            </tr>\n",
       "            <tr>\n",
       "                <th>Good channels</th>\n",
       "                <td>203 Gradiometers, 102 Magnetometers, 9 Stimulus, 59 EEG, 1 EOG</td>\n",
       "            </tr>\n",
       "            <tr>\n",
       "                <th>Bad channels</th>\n",
       "                <td>MEG 2443, EEG 053</td>\n",
       "            </tr>\n",
       "            <tr>\n",
       "                <th>EOG channels</th>\n",
       "                <td>EOG 061</td>\n",
       "            </tr>\n",
       "            <tr>\n",
       "                <th>ECG channels</th>\n",
       "                <td>Not available</td>\n",
       "            </tr>\n",
       "        </table>\n",
       "        </details>\n",
       "        <details open>\n",
       "            <summary><strong>Data</strong></summary>\n",
       "            <table class=\"table table-hover table-striped table-sm table-responsive small\">\n",
       "                \n",
       "                <tr>\n",
       "                    <th>Sampling frequency</th>\n",
       "                    <td>600.61 Hz</td>\n",
       "                </tr>\n",
       "                \n",
       "                \n",
       "                <tr>\n",
       "                    <th>Highpass</th>\n",
       "                    <td>0.10 Hz</td>\n",
       "                </tr>\n",
       "                \n",
       "                \n",
       "                <tr>\n",
       "                    <th>Lowpass</th>\n",
       "                    <td>172.18 Hz</td>\n",
       "                </tr>\n",
       "                \n",
       "                \n",
       "                <tr>\n",
       "                    <th>Projections</th>\n",
       "                    <td>PCA-v1 : off<br />PCA-v2 : off<br />PCA-v3 : off</td>\n",
       "                </tr>\n",
       "                \n",
       "                \n",
       "                <tr>\n",
       "                    <th>Filenames</th>\n",
       "                    <td>sample_audvis_raw.fif</td>\n",
       "                </tr>\n",
       "                \n",
       "                \n",
       "                <tr>\n",
       "                    <th>Duration</th>\n",
       "                    <td>00:01:01 (HH:MM:SS)</td>\n",
       "                </tr>\n",
       "                \n",
       "            </table>\n",
       "            </details>"
      ],
      "text/plain": [
       "<Raw | sample_audvis_raw.fif, 376 x 36038 (60.0 s), ~3.3 MB, data not loaded>"
      ]
     },
     "execution_count": 11,
     "metadata": {},
     "output_type": "execute_result"
    }
   ],
   "source": [
    "################################# CELL 3 ################################\n",
    "raw"
   ]
  },
  {
   "cell_type": "markdown",
   "metadata": {},
   "source": [
    "Take a moment to look at the data summary table provided. This table gives us a snapshot of the main characteristics of our dataset.\n",
    "\n",
    "Do you notice any irregularities or anomalies in the data, i.e. any bad channels? If so, make a note of them. These could be potential concerns that need to be addressed or explored further.\n",
    "Share your findings with your peers or teacher; see what they think!"
   ]
  },
  {
   "cell_type": "markdown",
   "metadata": {},
   "source": [
    "## Learning Objective 3 : EEG Data Manipulation\n",
    "\n",
    "Well done on getting to this part of the workshop!\n",
    "\n",
    "Now that we've got our hands on the data, it's time to manipulate it and remove any pesky irregularities before we can plot it.\n",
    "You may have noticed several points from the data summary:\n",
    "1. The data is about 1 minute long. To accelerate analysis, we can crop the data to 40 seconds. \n",
    "2. The dataset includes information from various source channels/sources namely Gradiometers, Magnetometers, Stimuli, EEG, and EOG. However, our focus is solely on the EEG channels.\n",
    "3. Moreover, there are bad channels. We need to remove these channels before plotting.\n",
    "\n",
    "\n",
    "To complete this objective, your task is to modify the code in \"CELL 4\".\n",
    "\n",
    "Hint:\n",
    "- `raw.crop(tmax=5)`: this code will cut down the length of the data into whatever value has been specified for `tmax`. For this example, we have cut the data to only show us the first 5 seconds.\n",
    "- `raw.drop_channels([\"EEG 111\"])` : this code will remove (drop) the specified channel. For this example, we are removing channel `EEG 111`\n",
    "- `meg_data_only = raw.copy().pick(picks=[\"meg\"])` : this code will pick only the specified channel types and store it into a variable called `meg_data_only`. For this example, we are extracting (picking) `meg` data only. To extract EEG data, we need to use `eeg` \n"
   ]
  },
  {
   "cell_type": "code",
   "execution_count": 13,
   "metadata": {},
   "outputs": [
    {
     "name": "stdout",
     "output_type": "stream",
     "text": [
      "Removing projector <Projection | PCA-v1, active : False, n_channels : 102>\n",
      "Removing projector <Projection | PCA-v2, active : False, n_channels : 102>\n",
      "Removing projector <Projection | PCA-v3, active : False, n_channels : 102>\n"
     ]
    },
    {
     "name": "stdout",
     "output_type": "stream",
     "text": [
      "<Info | 19 non-empty values\n",
      " acq_pars: ACQch001 110113 ACQch002 110112 ACQch003 110111 ACQch004 110122 ...\n",
      " bads: []\n",
      " ch_names: EEG 001, EEG 002, EEG 003, EEG 004, EEG 005, EEG 006, EEG 007, ...\n",
      " chs: 59 EEG\n",
      " custom_ref_applied: False\n",
      " description: acquisition (megacq) VectorView system at NMR-MGH\n",
      " dev_head_t: MEG device -> head transform\n",
      " dig: 146 items (3 Cardinal, 4 HPI, 61 EEG, 78 Extra)\n",
      " events: 1 item (list)\n",
      " experimenter: MEG\n",
      " file_id: 4 items (dict)\n",
      " highpass: 0.1 Hz\n",
      " hpi_meas: 1 item (list)\n",
      " hpi_results: 1 item (list)\n",
      " lowpass: 172.2 Hz\n",
      " meas_date: 2002-12-03 19:01:10 UTC\n",
      " meas_id: 4 items (dict)\n",
      " nchan: 59\n",
      " proj_id: 1 item (ndarray)\n",
      " proj_name: test\n",
      " projs: []\n",
      " sfreq: 600.6 Hz\n",
      ">\n"
     ]
    }
   ],
   "source": [
    "################################# CELL 4 ################################\n",
    "\n",
    "# In below lines, replace the \"......\" by what is needed, and then uncomment the lines to run the data manipulation.\n",
    "# raw_copy = raw.copy().crop(tmax=............)\n",
    "# raw_copy.drop_channels([\"................\"])\n",
    "# eeg_data_only = raw_copy.copy().pick(picks=[\"........\"])\n",
    "\n",
    "raw_copy = raw.copy().crop(tmax=40)\n",
    "raw_copy.drop_channels([\"EEG 053\"])\n",
    "eeg_data_only = raw_copy.copy().pick(picks=[\"eeg\"])\n",
    "\n",
    "# To print the information on the extracted eeg data only, uncomment the below line after successfully running the above lines to generate the new variable eeg_data_only\n",
    "print(eeg_data_only.info)"
   ]
  },
  {
   "cell_type": "markdown",
   "metadata": {},
   "source": [
    "## Learning Objective 4 : Plot/Graph EEG data\n",
    "\n",
    "Fantastic! Now the data is ready to be plotted. Your task here is to visualise the EEG data of a specific channel (e.g. '**24**') between specific times (e.g. between **5** and **15** seconds) for initial analysis. \n",
    "\n",
    "To do this, we will be using the `matplotlib` package that we imported earlier to plot the data.\n",
    "Also, don't forget to annotate your plot! Without it, it will be meaningless to the reader. \n",
    "\n",
    "\n",
    "To complete this objective, your task is to modify the code in \"CELL 5\".\n",
    "\n",
    "Hint:\n",
    "- Note that we are  working on the data that we prepared in the previous step, i.e. eeg_data_only.  \n",
    "- The different channel names can be identified by running `print(eeg_data_only.ch_names)`.  \n",
    "- Update the `start_time` and `stop_time` variables as outline above.\n",
    "- Update the variable `channel_name` as specified above. \n",
    "\n",
    "- To plot the data, this can be done via the code `plt.plot(x_values, y_values)`. In our case, the x values are stored in variable `time_x` and y values are in `eeg_amplitude_y`\n",
    "- To annotate the plot: \n",
    "    -  `plt.xlabel('Some_x_label')` : this code is to modify the plots x label heading \n",
    "    -  `plt.ylabel('Some_y_label')` : this code is to modify the plots y label heading \n",
    "    -  `plt.title('Some_Plot_Tile')` : this code is to modify the plots heading title\n",
    "    -  `plt.legend(['Some_legend_title'])` : this code is to generate a legend box and to provide it with a title\n",
    "- Below is an example of what the plot should look like\n",
    "\n",
    "![Regular Plot Example](pics/Regular_plot.png)\n",
    "\n"
   ]
  },
  {
   "cell_type": "code",
   "execution_count": 18,
   "metadata": {},
   "outputs": [
    {
     "data": {
      "image/png": "[encoded data removed]",
      "text/plain": [
       "<Figure size 1000x1000 with 1 Axes>"
      ]
     },
     "metadata": {},
     "output_type": "display_data"
    }
   ],
   "source": [
    "################################# CELL 5 ################################\n",
    "\n",
    "# Optional: Write a line to print all available channel names \n",
    "\n",
    "# Modify the below lines to start at 5 and stop at 15 and show channel 24. After the modification uncomment the lines.\n",
    "# start_time = ....... \n",
    "# stop_time = ........ \n",
    "# channel_name = ......  \n",
    "\n",
    "start_time = 5\n",
    "stop_time = 15 \n",
    "channel_name = \"EEG 024\" \n",
    "\n",
    "\n",
    "##### DON\"T MODIFY CODE BELOW ######\n",
    "start_stop_seconds = np.array([start_time, stop_time])\n",
    "sampling_freq = raw.info[\"sfreq\"]\n",
    "start_sample, stop_sample = (start_stop_seconds * sampling_freq).astype(int)\n",
    "selected_eeg = eeg_data_only[channel_name, start_sample:stop_sample]\n",
    "\n",
    "time_x = selected_eeg[1]\n",
    "eeg_amplitude_y = selected_eeg[0].T * 10**5 # Convert to micro Volts\n",
    "###################################\n",
    "\n",
    "\n",
    "######### CODE FOR PLOTTING - Feel free to modify to change the plot size ##########\n",
    "# Create a figure object with a specific size\n",
    "width = 10\n",
    "height = 10\n",
    "plt.figure(figsize=(width, height))\n",
    "###################################\n",
    " \n",
    "# Modify and then uncomment the below line to plot time on the x axis (using variable time_x), and the eeg ampliture on the y axis. Which variable from the above should we use?  \n",
    "# plt.plot(..... , .....)\n",
    "# # Plot Annotation\n",
    "# plt.xlabel(....) # Modify to show the x axis label as you wish. Note that the data is in second. \n",
    "# plt.ylabel(.)# Modify to show the y axis label as you wish. Note that the data is in micro Volt. If you would like to show mu correctly, use '\\u03BC'\n",
    "# plt.title(.....) # For STUDENTS to modify\n",
    "# plt.legend(.......)\n",
    "# plt.show()\n",
    "\n",
    "\n",
    "# SOLUTION (DELETE BEFOFE THE ACTUAL EVENT)\n",
    "plt.plot(time_x, eeg_amplitude_y) # For STUDENTS to modify\n",
    "plt.xlabel('Time (seconds)') # For STUDENTS to modify\n",
    "plt.ylabel('Amplitude(\\u03BCV)')# For STUDENTS to modify\n",
    "plt.title(f'EEG Reading for Channel \"{channel_name}\"') # For STUDENTS to modify\n",
    "plt.legend([f\"{channel_name}\"])\n",
    "plt.show()\n",
    "\n"
   ]
  },
  {
   "cell_type": "markdown",
   "metadata": {},
   "source": [
    "### Challenge activity (OPTIONAL)!\n",
    "\n",
    "Now that you have learnt to plot the data of a single channel, how about you try plotting the data of two channels at once!\n",
    "You are welcome to choose any 2 channels of your liking and the same goes with the start and stop time specifications\n",
    "\n",
    "Hint: \n",
    "- The code is similar to the single channel plot which you can reuse. However, it will need to be modified to complete this task\n",
    "- This is only recommended for students with prior Python coding experience. \n",
    "- Below is an example of what the plot could look like\n",
    "\n",
    "\n",
    "![Advance Plot Example!](pics/Advance_plot.png)"
   ]
  },
  {
   "cell_type": "code",
   "execution_count": null,
   "metadata": {},
   "outputs": [],
   "source": [
    "################################# CELL 6 ################################\n"
   ]
  },
  {
   "cell_type": "markdown",
   "metadata": {},
   "source": [
    "# Congratulations, Brain Explorers! 🎉🎉\n",
    "\n",
    "Congratulations on completing this coding workshop. We can't wait to see where your journey takes you next! 🚀🧠 #NeuroSTEM2024\n",
    "\n",
    "![Congratz!](notebook_gif/big_brain.gif)\n",
    "\n"
   ]
  }
 ],
 "metadata": {
  "kernelspec": {
   "display_name": "Python 3",
   "language": "python",
   "name": "python3"
  },
  "language_info": {
   "codemirror_mode": {
    "name": "ipython",
    "version": 3
   },
   "file_extension": ".py",
   "mimetype": "text/x-python",
   "name": "python",
   "nbconvert_exporter": "python",
   "pygments_lexer": "ipython3",
   "version": "3.10.11"
  }
 },
 "nbformat": 4,
 "nbformat_minor": 2
}
